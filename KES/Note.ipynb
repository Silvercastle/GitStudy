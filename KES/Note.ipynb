{
 "cells": [
  {
   "cell_type": "markdown",
   "metadata": {},
   "source": [
    "TensorFlow v1.0 교육과정 (https://www.youtube.com/playlist?list=PLRx0vPvlEmdAbnmLH9yh03cw9UQU_o7PO)\n",
    "=================================================================================================================="
   ]
  },
  {
   "cell_type": "markdown",
   "metadata": {},
   "source": [
    "1회차 \n",
    "\n",
    "텐서플로우(Tensorflow) 변수와 상수\n",
    "텐서플로우(Tensorflow) 플레이스 홀더\n",
    "텐서플로우(Tensorflow) 기본 함수"
   ]
  },
  {
   "cell_type": "markdown",
   "metadata": {},
   "source": [
    "2회차 \n",
    "\n",
    "텐서플로우(Tensorflow) 아키텍처\n",
    "텐서플로우(Tensorflow) 세션\n",
    "빅 데이터 K 평균(K Means) 개요"
   ]
  },
  {
   "cell_type": "markdown",
   "metadata": {},
   "source": [
    "TensorFlow v2.0 교육과정 (https://www.youtube.com/playlist?list=PLSlDi2AkDv810N_uje_mCJuMthkU-oM1i)"
   ]
  }
 ],
 "metadata": {
  "language_info": {
   "name": "python"
  },
  "orig_nbformat": 4
 },
 "nbformat": 4,
 "nbformat_minor": 2
}
