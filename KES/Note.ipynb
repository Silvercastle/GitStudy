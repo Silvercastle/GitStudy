{
 "cells": [
  {
   "cell_type": "markdown",
   "metadata": {},
   "source": [
    "TensorFlow v1.0 교육과정 (https://www.youtube.com/playlist?list=PLRx0vPvlEmdAbnmLH9yh03cw9UQU_o7PO)\n",
    "=================================================================================================================="
   ]
  },
  {
   "cell_type": "markdown",
   "metadata": {},
   "source": [
    "1회차 \n",
    "\n",
    "텐서플로우(Tensorflow) 변수와 상수\n",
    "텐서플로우(Tensorflow) 플레이스 홀더\n",
    "텐서플로우(Tensorflow) 기본 함수"
   ]
  },
  {
   "cell_type": "markdown",
   "metadata": {},
   "source": [
    "2회차 \n",
    "\n",
    "텐서플로우(Tensorflow) 아키텍처\n",
    "텐서플로우(Tensorflow) 세션\n",
    "빅 데이터 K 평균(K Means) 개요"
   ]
  },
  {
   "cell_type": "markdown",
   "metadata": {},
   "source": [
    "TensorFlow v2.0 교육과정 (https://www.youtube.com/playlist?list=PLSlDi2AkDv810N_uje_mCJuMthkU-oM1i)"
   ]
  },
  {
   "cell_type": "markdown",
   "metadata": {},
   "source": [
    "python tensorflow 를 학습하기 위해 자습서에 있는 fashion MNIST 데이터셋으로 학습하기위한 과정입니다. 소스코드를 제공할테니 한글로 상세한 설명을 추가하여 소스를 변경해주시기 바랍니다. 설명은 필요없고 그냥 소스코드로만 답변해주세요"
   ]
  },
  {
   "cell_type": "code",
   "execution_count": null,
   "metadata": {},
   "outputs": [],
   "source": []
  }
 ],
 "metadata": {
  "kernelspec": {
   "display_name": "Python 3.10.1 64-bit",
   "language": "python",
   "name": "python3"
  },
  "language_info": {
   "name": "python",
   "version": "3.10.1"
  },
  "orig_nbformat": 4,
  "vscode": {
   "interpreter": {
    "hash": "369f2c481f4da34e4445cda3fffd2e751bd1c4d706f27375911949ba6bb62e1c"
   }
  }
 },
 "nbformat": 4,
 "nbformat_minor": 2
}
