{
 "cells": [
  {
   "cell_type": "markdown",
   "metadata": {},
   "source": [
    "TensorFlow v1.0 교육과정 (https://www.youtube.com/playlist?list=PLRx0vPvlEmdAbnmLH9yh03cw9UQU_o7PO)\n",
    "=================================================================================================================="
   ]
  },
  {
   "cell_type": "markdown",
   "metadata": {},
   "source": [
    "1회차 \n",
    "\n",
    "텐서플로우(Tensorflow) 변수와 상수\n",
    "텐서플로우(Tensorflow) 플레이스 홀더\n",
    "텐서플로우(Tensorflow) 기본 함수"
   ]
  },
  {
   "cell_type": "markdown",
   "metadata": {},
   "source": [
    "2회차 \n",
    "\n",
    "텐서플로우(Tensorflow) 아키텍처\n",
    "텐서플로우(Tensorflow) 세션\n",
    "빅 데이터 K 평균(K Means) 개요"
   ]
  },
  {
   "cell_type": "markdown",
   "metadata": {},
   "source": [
    "TensorFlow v2.0 교육과정 (https://www.youtube.com/playlist?list=PLSlDi2AkDv810N_uje_mCJuMthkU-oM1i)"
   ]
  }
 ],
 "metadata": {
  "kernelspec": {
   "display_name": "Python 3.10.1 64-bit",
   "language": "python",
   "name": "python3"
  },
  "language_info": {
   "name": "python",
   "version": "3.10.1"
  },
  "orig_nbformat": 4,
  "vscode": {
   "interpreter": {
    "hash": "369f2c481f4da34e4445cda3fffd2e751bd1c4d706f27375911949ba6bb62e1c"
   }
  }
 },
 "nbformat": 4,
 "nbformat_minor": 2
}
