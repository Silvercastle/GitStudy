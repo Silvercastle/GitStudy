{
 "cells": [
  {
   "cell_type": "code",
   "execution_count": null,
   "metadata": {},
   "outputs": [],
   "source": [
    "# Embedding: 단어(고차원)를 숫자(저차원)으로 변환하는 것\n",
    "\n",
    "# 이미지 분류\n",
    "# 텍스트 분류: 단어를 저차원으로 만들어서 의미를 추론한다.\n",
    "    # 텍스트 추론을 위해 (positive, negative) 문장으로 학습한다.\n",
    "    # 임베딩을 통해 \"문장에서 단어간의 연관 관계\"를 추론할 수 있다. - ChatGPT 가 단어 임베딩이 참 잘 됐다고 함"
   ]
  },
  {
   "cell_type": "markdown",
   "metadata": {},
   "source": [
    "Adam(1e-4) -> learning rate 를 디폴트 값의 1/10으로 줄여서 경사하강법을 천천히..? 진행한다?\n",
    "RNN\n",
    "- return_sequence=True -> 데이터 시퀀스를 그대로 다음 레이어에게 전달, false 이면 결과값만 전달한다.\n",
    "\n",
    "RNN (LSTM) 이 뭔지만 확인하기\n",
    "\n",
    "단어는 어떤 의미를 담고 있는지 모르기 때문에 고차원(다차원)일 수밖에 없다.\n",
    "\n",
    "단어의 의미를 해석하기 위해 임베딩 이라는 과정을 고치고\n",
    "\n",
    "임베딩 하기 전에 인코더 레이어 먼저 만들어라!!\n",
    "\n",
    "tf.keras.layers.Bidirectional(tf.keras.layers.LSTM(64)),\n",
    "여기에서 LSTM/RNN/SimpleRNN? 을 쓸지 정하면된다.\n",
    "이런 레이어를 쌓는 과정을 분류에 따라 정해져있으니까 그냥 외우면 된다.\n",
    "모델 레이어 구조는 그냥 외워라. \n",
    "이미지 분류 모델은 이런 거, 텍스트 분류는 이런 거....\n",
    "각 분류 모델들의 구조 차이를 보고 외워서 문제 풀면 된다...\n",
    "\n",
    "정비사가 선택한 진단 메뉴의 기능들을 추론해서 아 이사람이 전기차를 진단하려고 하는구나 이런 거... ㅎㅎ.. -> 기능 추천 이런 거 ㅎ.."
   ]
  }
 ],
 "metadata": {
  "kernelspec": {
   "display_name": "base",
   "language": "python",
   "name": "python3"
  },
  "language_info": {
   "codemirror_mode": {
    "name": "ipython",
    "version": 3
   },
   "file_extension": ".py",
   "mimetype": "text/x-python",
   "name": "python",
   "nbconvert_exporter": "python",
   "pygments_lexer": "ipython3",
   "version": "3.11.7"
  }
 },
 "nbformat": 4,
 "nbformat_minor": 2
}
