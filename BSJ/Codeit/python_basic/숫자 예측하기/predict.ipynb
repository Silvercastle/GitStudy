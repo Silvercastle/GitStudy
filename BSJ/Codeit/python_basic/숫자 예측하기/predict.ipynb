{
 "cells": [
  {
   "cell_type": "markdown",
   "metadata": {},
   "source": [
    "### 1. 숫자 야구 : 숫자 3개 뽑기"
   ]
  },
  {
   "cell_type": "code",
   "execution_count": 1,
   "metadata": {},
   "outputs": [
    {
     "name": "stdout",
     "output_type": "stream",
     "text": [
      "0과 9 사이의 서로 다른 숫자 3개를 랜덤한 순서로 뽑았습니다.\n",
      "\n",
      "[6, 5, 2]\n"
     ]
    }
   ],
   "source": [
    "import random\n",
    "from random import randint\n",
    "\n",
    "\n",
    "def generate_numbers():\n",
    "    numbers = []\n",
    "\n",
    "    # 여기에 코드를 작성하세요\n",
    "    while len(numbers) < 3:\n",
    "        num = random.randint(0,9)\n",
    "        if num not in numbers:\n",
    "            numbers.append(num)\n",
    "\n",
    "    print(\"0과 9 사이의 서로 다른 숫자 3개를 랜덤한 순서로 뽑았습니다.\\n\")\n",
    "    return numbers\n",
    "\n",
    "\n",
    "# 테스트 코드\n",
    "print(generate_numbers())"
   ]
  },
  {
   "cell_type": "markdown",
   "metadata": {},
   "source": [
    "### 2. 숫자 야구: 숫자 예측하기"
   ]
  },
  {
   "cell_type": "code",
   "execution_count": 9,
   "metadata": {},
   "outputs": [
    {
     "name": "stdout",
     "output_type": "stream",
     "text": [
      "숫자 3개를 하나씩 차례대로 입력하세요.\n",
      "중복되는 숫자입니다. 다시 입력하세요.\n",
      "[5, 6, 4]\n"
     ]
    }
   ],
   "source": [
    "def take_guess():\n",
    "    print(\"숫자 3개를 하나씩 차례대로 입력하세요.\")\n",
    "    \n",
    "    new_guess = []\n",
    "    # 여기에 코드를 작성하세요\n",
    "    for i in range(1, 4):\n",
    "        userNum = int(input(\"{}번째 숫자를 입력하세요: \".format(i)))\n",
    "        # if userNum not in new_guess :\n",
    "        #     new_guess.append(userNum)\n",
    "        if userNum < 0 or userNum > 9:\n",
    "            print(\"범위를 벗어나는 숫자입니다. 다시 입력하세요.\")\n",
    "            userNum = input(\"{}번째 숫자를 입력하세요: \".format(i))\n",
    "            new_guess.append(int(userNum))\n",
    "        elif userNum in new_guess:\n",
    "            print(\"중복되는 숫자입니다. 다시 입력하세요.\")\n",
    "            userNum = input(\"{}번째 숫자를 입력하세요: \".format(i))\n",
    "            new_guess.append(int(userNum))\n",
    "        else :\n",
    "            new_guess.append(userNum)\n",
    "            \n",
    "    return new_guess\n",
    "    \n",
    "# 테스트 코드\n",
    "print(take_guess())"
   ]
  },
  {
   "cell_type": "markdown",
   "metadata": {},
   "source": [
    "### 3. 숫자 야구 : 점수 계산"
   ]
  },
  {
   "cell_type": "code",
   "execution_count": null,
   "metadata": {},
   "outputs": [],
   "source": [
    "def get_score(guesses, solution):\n",
    "    # strike : 숫자와 위치가 모두 일치\n",
    "    # ball : 숫자는 일치, 위치가 다름\n",
    "    strike_count = 0\n",
    "    ball_count = 0\n",
    "\n",
    "    # 여기에 코드를 작성하세요\n",
    "    for i in range(0, len(guesses)):\n",
    "        if guesses[i] == solution[i]:\n",
    "            strike_count += 1\n",
    "        elif guesses[i] != solution[i] and solution[i] in guesses:\n",
    "            ball_count += 1\n",
    "\n",
    "    return strike_count, ball_count\n",
    "\n",
    "\n",
    "# 테스트 코드\n",
    "s_1, b_1 = get_score([2, 7, 4], [2, 4, 7])\n",
    "print(s_1, b_1)\n",
    "\n",
    "s_2, b_2 = get_score([7, 2, 4], [2, 4, 7])\n",
    "print(s_2, b_2)\n",
    "\n",
    "s_3, b_3 = get_score([0, 4, 7], [2, 4, 7])\n",
    "print(s_3, b_3)\n",
    "\n",
    "s_4, b_4 = get_score([2, 4, 7], [2, 4, 7])\n",
    "print(s_4, b_4)"
   ]
  },
  {
   "cell_type": "markdown",
   "metadata": {},
   "source": [
    "### 4. 숫자 야구 : 코드 하나로 합치기"
   ]
  },
  {
   "cell_type": "code",
   "execution_count": null,
   "metadata": {},
   "outputs": [],
   "source": [
    "from random import randint\n",
    "\n",
    "\n",
    "def generate_numbers():\n",
    "    numbers = []\n",
    "\n",
    "    while len(numbers) < 3:\n",
    "        new_number = randint(0, 9)\n",
    "        if new_number not in numbers:\n",
    "            numbers.append(new_number)\n",
    "\n",
    "    return numbers\n",
    "\n",
    "\n",
    "def take_guess():\n",
    "    new_guess = []\n",
    "    while len(new_guess) < 3:\n",
    "        num = int(input(\"{}번째 수를 입력하세요: \".format(len(new_guess) + 1)))\n",
    "\n",
    "        if num < 0 or num > 9:\n",
    "            print(\"0에서 9까지의 수를 입력해 주세요!\")\n",
    "        elif num in new_guess:\n",
    "            print(\"중복되는 숫자입니다. 다시 입력하세요.\")\n",
    "        else:\n",
    "            new_guess.append(num)\n",
    "\n",
    "    return new_guess\n",
    "\n",
    "\n",
    "def get_score(guesses, solution):\n",
    "    strike_count = 0\n",
    "    ball_count = 0\n",
    "\n",
    "    for i in range(3):\n",
    "        if guesses[i] == solution[i]:\n",
    "            strike_count += 1\n",
    "        elif guesses[i] in solution:\n",
    "            ball_count += 1\n",
    "\n",
    "    return strike_count, ball_count\n",
    "\n",
    "\n",
    "# 여기서부터 게임 시작!\n",
    "ANSWER = generate_numbers()\n",
    "tries = 0\n",
    "\n",
    "while True:\n",
    "    user_guess = take_guess()\n",
    "    s, b = get_score(user_guess, ANSWER)\n",
    "\n",
    "    print(\"{}S {}B\\n\".format(s, b))\n",
    "    tries += 1\n",
    "\n",
    "    if s == 3:\n",
    "        break\n",
    "\n",
    "print(\"축하합니다. {}번 만에 세 숫자의 값과 위치를 모두 맞히셨습니다.\".format(tries))\n"
   ]
  }
 ],
 "metadata": {
  "kernelspec": {
   "display_name": "base",
   "language": "python",
   "name": "python3"
  },
  "language_info": {
   "codemirror_mode": {
    "name": "ipython",
    "version": 3
   },
   "file_extension": ".py",
   "mimetype": "text/x-python",
   "name": "python",
   "nbconvert_exporter": "python",
   "pygments_lexer": "ipython3",
   "version": "3.11.5"
  }
 },
 "nbformat": 4,
 "nbformat_minor": 2
}
