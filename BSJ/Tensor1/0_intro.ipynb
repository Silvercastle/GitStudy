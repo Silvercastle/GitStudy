{
 "cells": [
  {
   "cell_type": "code",
   "execution_count": null,
   "metadata": {},
   "outputs": [],
   "source": [
    "# pip install tensorflow\n",
    "# conda install -n tf ipykernel --update-deps --force-reinstall"
   ]
  },
  {
   "cell_type": "code",
   "execution_count": null,
   "metadata": {},
   "outputs": [],
   "source": [
    "# tensorflow 1.0 : 학습률이 눈으로 보임\n",
    "# tensorflow 2.0, keras : 학습률 확인 x"
   ]
  },
  {
   "cell_type": "code",
   "execution_count": 5,
   "metadata": {},
   "outputs": [
    {
     "name": "stdout",
     "output_type": "stream",
     "text": [
      "WARNING:tensorflow:From C:\\Users\\GIT\\AppData\\Local\\Temp\\ipykernel_4276\\2820872922.py:2: The name tf.disable_v2_behavior is deprecated. Please use tf.compat.v1.disable_v2_behavior instead.\n",
      "\n",
      "WARNING:tensorflow:From c:\\Users\\GIT\\AppData\\Local\\anaconda3\\envs\\tf\\lib\\site-packages\\tensorflow\\python\\compat\\v2_compat.py:98: disable_resource_variables (from tensorflow.python.ops.resource_variables_toggle) is deprecated and will be removed in a future version.\n",
      "Instructions for updating:\n",
      "non-resource variables are not supported in the long term\n"
     ]
    }
   ],
   "source": [
    "import tensorflow.compat.v1 as tf\n",
    "tf.disable_v2_behavior()"
   ]
  },
  {
   "cell_type": "code",
   "execution_count": 6,
   "metadata": {},
   "outputs": [
    {
     "name": "stdout",
     "output_type": "stream",
     "text": [
      "WARNING:tensorflow:From C:\\Users\\GIT\\AppData\\Local\\Temp\\ipykernel_4276\\2107305364.py:13: The name tf.train.GradientDescentOptimizer is deprecated. Please use tf.compat.v1.train.GradientDescentOptimizer instead.\n",
      "\n",
      "0 12605315000.0 [2108.3906] [2054.4314]\n",
      "500 2638651600.0 [52024.93] [51970.973]\n",
      "1000 2638651600.0 [52024.93] [51970.973]\n",
      "1500 2638651600.0 [52024.93] [51970.973]\n",
      "2000 2638651600.0 [52024.93] [51970.973]\n",
      "2500 2638651600.0 [52024.93] [51970.973]\n",
      "3000 2638651600.0 [52024.93] [51970.973]\n",
      "3500 2638651600.0 [52024.93] [51970.973]\n",
      "4000 2638651600.0 [52024.93] [51970.973]\n",
      "4500 2638651600.0 [52024.93] [51970.973]\n",
      "5000 2638651600.0 [52024.93] [51970.973]\n",
      "[104003.91]\n"
     ]
    }
   ],
   "source": [
    "# 최적의 그래프에서 값을 예측\n",
    "xData = [1,2,3,4,5,6,7]\n",
    "yData = [25000,55000,75000,110000,128000, 155000, 180000]\n",
    "W = tf.Variable(tf.random_uniform([1], -100, 100))  # random_uniform -> random.uniform # 기울기\n",
    "b = tf.Variable(tf.random_uniform([1], -100, 100)) # y절편\n",
    "\n",
    "X = tf.placeholder(tf.float32)  # placeholder -> keras.layers.Input\n",
    "Y = tf.placeholder(tf.float32)\n",
    "H = W + X + b\n",
    "\n",
    "cost = tf.reduce_mean(tf.square(H-Y)) # 손실 함수 : 평균제곱오차\n",
    "a = tf.Variable(0.01)\n",
    "optimizer = tf.train.GradientDescentOptimizer(a) # 모델\n",
    "\n",
    "train = optimizer.minimize(cost)\n",
    "init = tf.global_variables_initializer()\n",
    "sess = tf.Session()\n",
    "sess.run(init)\n",
    "\n",
    "for i in range(5001):\n",
    "    sess.run(train, feed_dict={X:xData, Y:yData})\n",
    "    if i % 500 == 0:  # 500번의 학습\n",
    "        print(i, sess.run(cost, feed_dict={X:xData, Y:yData}), sess.run(W), sess.run(b))\n",
    "print(sess.run(H, feed_dict={X: [8]}))"
   ]
  },
  {
   "cell_type": "markdown",
   "metadata": {},
   "source": [
    "## 변수와 상수"
   ]
  },
  {
   "cell_type": "code",
   "execution_count": 2,
   "metadata": {},
   "outputs": [
    {
     "name": "stdout",
     "output_type": "stream",
     "text": [
      "WARNING:tensorflow:From C:\\Users\\GIT\\AppData\\Local\\Temp\\ipykernel_21656\\2820872922.py:2: The name tf.disable_v2_behavior is deprecated. Please use tf.compat.v1.disable_v2_behavior instead.\n",
      "\n",
      "WARNING:tensorflow:From c:\\Users\\GIT\\AppData\\Local\\anaconda3\\envs\\tf\\lib\\site-packages\\tensorflow\\python\\compat\\v2_compat.py:98: disable_resource_variables (from tensorflow.python.ops.resource_variables_toggle) is deprecated and will be removed in a future version.\n",
      "Instructions for updating:\n",
      "non-resource variables are not supported in the long term\n"
     ]
    }
   ],
   "source": [
    "import tensorflow.compat.v1 as tf\n",
    "tf.disable_v2_behavior()"
   ]
  },
  {
   "cell_type": "code",
   "execution_count": 4,
   "metadata": {},
   "outputs": [
    {
     "data": {
      "text/plain": [
       "3"
      ]
     },
     "execution_count": 4,
     "metadata": {},
     "output_type": "execute_result"
    }
   ],
   "source": [
    "# 상수\n",
    "a = tf.constant(1)\n",
    "b = tf.constant(2)\n",
    "c = tf.add(a, b)\n",
    "sess = tf.Session()\n",
    "sess.run(c)"
   ]
  },
  {
   "cell_type": "code",
   "execution_count": 15,
   "metadata": {},
   "outputs": [
    {
     "data": {
      "text/plain": [
       "15"
      ]
     },
     "execution_count": 15,
     "metadata": {},
     "output_type": "execute_result"
    }
   ],
   "source": [
    "# 변수\n",
    "a = tf.Variable(5)\n",
    "b = tf.Variable(3)\n",
    "c = tf.multiply(a, b)\n",
    "init = tf.global_variables_initializer()\n",
    "sess = tf.Session() # 세션 초기화\n",
    "sess.run(init)\n",
    "sess.run(c)"
   ]
  },
  {
   "cell_type": "code",
   "execution_count": 17,
   "metadata": {},
   "outputs": [
    {
     "data": {
      "text/plain": [
       "45"
      ]
     },
     "execution_count": 17,
     "metadata": {},
     "output_type": "execute_result"
    }
   ],
   "source": [
    "a = tf.Variable(15)\n",
    "c = tf.multiply(a, b)\n",
    "init = tf.global_variables_initializer()\n",
    "# sess = tf.Session() # 세션 초기화\n",
    "sess.run(init)\n",
    "sess.run(c)"
   ]
  },
  {
   "cell_type": "code",
   "execution_count": 18,
   "metadata": {},
   "outputs": [
    {
     "data": {
      "text/plain": [
       "array([ 6.,  7.,  8.,  9., 10.], dtype=float32)"
      ]
     },
     "execution_count": 18,
     "metadata": {},
     "output_type": "execute_result"
    }
   ],
   "source": [
    "# tf.placeholder(dtype, n)\n",
    "\n",
    "input = [1,2,3,4,5]\n",
    "x = tf.placeholder(dtype=tf.float32)\n",
    "y = x + 5\n",
    "\n",
    "sess = tf.Session()\n",
    "sess.run(y, feed_dict={x:input})\n"
   ]
  },
  {
   "cell_type": "code",
   "execution_count": 20,
   "metadata": {},
   "outputs": [],
   "source": [
    "mathScore = [85, 99, 84, 97, 92]\n",
    "engScore = [59,80,84,69,77]\n",
    "\n",
    "a = tf.placeholder(dtype=tf.float32)\n",
    "b = tf.placeholder(dtype=tf.float32)\n",
    "\n",
    "y = (a+b)/2"
   ]
  },
  {
   "cell_type": "code",
   "execution_count": 22,
   "metadata": {},
   "outputs": [
    {
     "data": {
      "text/plain": [
       "array([72. , 89.5, 84. , 83. , 84.5], dtype=float32)"
      ]
     },
     "execution_count": 22,
     "metadata": {},
     "output_type": "execute_result"
    }
   ],
   "source": [
    "sess = tf.Session()\n",
    "sess.run(y,feed_dict={a:mathScore, b:engScore})"
   ]
  },
  {
   "cell_type": "markdown",
   "metadata": {},
   "source": [
    "## placeholder"
   ]
  },
  {
   "cell_type": "code",
   "execution_count": 23,
   "metadata": {},
   "outputs": [
    {
     "data": {
      "text/plain": [
       "12"
      ]
     },
     "execution_count": 23,
     "metadata": {},
     "output_type": "execute_result"
    }
   ],
   "source": [
    "# 상수는 초기화 X (변수는 세션 초기화 필요)\n",
    "a = tf.constant(17)\n",
    "b = tf.constant(5)\n",
    "\n",
    "sess = tf.Session()\n",
    "\n",
    "# 덧셈 함수 사용하기\n",
    "c = tf.add(a,b)\n",
    "sess.run(c)\n"
   ]
  },
  {
   "cell_type": "code",
   "execution_count": 24,
   "metadata": {},
   "outputs": [
    {
     "data": {
      "text/plain": [
       "12"
      ]
     },
     "execution_count": 24,
     "metadata": {},
     "output_type": "execute_result"
    }
   ],
   "source": [
    "# 뺄셈\n",
    "c = tf.subtract(a, b)\n",
    "sess.run(c)"
   ]
  },
  {
   "cell_type": "code",
   "execution_count": 26,
   "metadata": {},
   "outputs": [
    {
     "data": {
      "text/plain": [
       "85"
      ]
     },
     "execution_count": 26,
     "metadata": {},
     "output_type": "execute_result"
    }
   ],
   "source": [
    "c = tf.multiply(a, b)\n",
    "sess.run(c)"
   ]
  },
  {
   "cell_type": "code",
   "execution_count": 27,
   "metadata": {},
   "outputs": [
    {
     "data": {
      "text/plain": [
       "3.4"
      ]
     },
     "execution_count": 27,
     "metadata": {},
     "output_type": "execute_result"
    }
   ],
   "source": [
    "c = tf.truediv(a, b)\n",
    "sess.run(c)"
   ]
  },
  {
   "cell_type": "code",
   "execution_count": 29,
   "metadata": {},
   "outputs": [
    {
     "data": {
      "text/plain": [
       "2"
      ]
     },
     "execution_count": 29,
     "metadata": {},
     "output_type": "execute_result"
    }
   ],
   "source": [
    "c = tf.mod(a, b)\n",
    "sess.run(c)"
   ]
  },
  {
   "cell_type": "code",
   "execution_count": 32,
   "metadata": {},
   "outputs": [
    {
     "data": {
      "text/plain": [
       "2"
      ]
     },
     "execution_count": 32,
     "metadata": {},
     "output_type": "execute_result"
    }
   ],
   "source": [
    "c = tf.abs(c)\n",
    "sess.run(c)"
   ]
  },
  {
   "cell_type": "code",
   "execution_count": 33,
   "metadata": {},
   "outputs": [
    {
     "data": {
      "text/plain": [
       "306.25"
      ]
     },
     "execution_count": 33,
     "metadata": {},
     "output_type": "execute_result"
    }
   ],
   "source": [
    "a = tf.constant(17.5)\n",
    "b = tf.constant(5.0)\n",
    "\n",
    "c = tf.negative(a)\n",
    "sess.run(c)\n",
    "\n",
    "c = tf.square(a)\n",
    "sess.run(c)\n",
    "\n",
    "c = tf.pow(a, 2)\n",
    "sess.run(c)"
   ]
  },
  {
   "cell_type": "code",
   "execution_count": 34,
   "metadata": {},
   "outputs": [
    {
     "data": {
      "text/plain": [
       "5.0"
      ]
     },
     "execution_count": 34,
     "metadata": {},
     "output_type": "execute_result"
    }
   ],
   "source": [
    "c = tf.maximum(a, b)\n",
    "sess.run(c)\n",
    "\n",
    "c = tf.minimum(a,b)\n",
    "sess.run(c)\n"
   ]
  }
 ],
 "metadata": {
  "kernelspec": {
   "display_name": "tf",
   "language": "python",
   "name": "python3"
  },
  "language_info": {
   "codemirror_mode": {
    "name": "ipython",
    "version": 3
   },
   "file_extension": ".py",
   "mimetype": "text/x-python",
   "name": "python",
   "nbconvert_exporter": "python",
   "pygments_lexer": "ipython3",
   "version": "3.9.18"
  }
 },
 "nbformat": 4,
 "nbformat_minor": 2
}
