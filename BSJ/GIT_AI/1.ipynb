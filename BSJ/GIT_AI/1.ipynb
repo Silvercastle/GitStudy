{
 "cells": [
  {
   "cell_type": "markdown",
   "metadata": {},
   "source": [
    "- PMP(프로젝트 관리 전문가)\n",
    "### OpenAI(Chat-gpt)\n",
    "#### Pre-trained 사전 학습\n",
    "#### 프롬프트 : 지시문(instuction)과 맥락(Context) 구분\n",
    "- 하나의 프롬프트에는 딱 하나의 업무 지시만 한다"
   ]
  }
 ],
 "metadata": {
  "language_info": {
   "name": "python"
  }
 },
 "nbformat": 4,
 "nbformat_minor": 2
}
