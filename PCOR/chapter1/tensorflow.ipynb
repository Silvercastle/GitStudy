{
 "cells": [
  {
   "cell_type": "code",
   "execution_count": 13,
   "metadata": {},
   "outputs": [
    {
     "name": "stdout",
     "output_type": "stream",
     "text": [
      "Hello, TensorFlow!\n"
     ]
    }
   ],
   "source": [
    "import tensorflow as tf\n",
    "hello = tf.constant('Hello, TensorFlow!')\n",
    "tf.print(hello)"
   ]
  },
  {
   "cell_type": "code",
   "execution_count": 4,
   "metadata": {},
   "outputs": [
    {
     "name": "stdout",
     "output_type": "stream",
     "text": [
      "WARNING:tensorflow:From C:\\Users\\git\\AppData\\Local\\Temp\\ipykernel_27676\\295947447.py:14: The name tf.train.GradientDescentOptimizer is deprecated. Please use tf.compat.v1.train.GradientDescentOptimizer instead.\n",
      "\n",
      "0 4743134000.0 [9217.912] [1750.9569]\n",
      "500 1040281100.0 [25140.086] [-10224.596]\n",
      "1000 1039067100.0 [25569.594] [-12351.485]\n",
      "1500 1039041400.0 [25632.18] [-12661.413]\n",
      "2000 1039040830.0 [25641.299] [-12706.576]\n",
      "2500 1039040600.0 [25642.629] [-12713.164]\n",
      "3000 1039040700.0 [25642.82] [-12714.112]\n",
      "3500 1039040960.0 [25642.822] [-12714.121]\n",
      "4000 1039040960.0 [25642.822] [-12714.121]\n",
      "4500 1039040960.0 [25642.822] [-12714.121]\n",
      "5000 1039040960.0 [25642.822] [-12714.121]\n",
      "[192428.45]\n"
     ]
    }
   ],
   "source": [
    "import tensorflow.compat.v1 as tf\n",
    "tf.disable_v2_behavior()\n",
    "\n",
    "xData =[1,2,3,4,5,6,7]\n",
    "yData = [25000, 55000, 75000, 11000, 128000, 155000,180000]\n",
    "\n",
    "W = tf.Variable(tf.random_uniform([1], -100, 100))\n",
    "b = tf.Variable(tf.random_uniform([1], -100, 100))\n",
    "X = tf.placeholder(tf.float32)\n",
    "Y = tf.placeholder(tf.float32)\n",
    "H = W * X + b\n",
    "cost = tf.reduce_mean(tf.square(H - Y))\n",
    "a = tf.Variable(0.01)\n",
    "optimizer = tf.train.GradientDescentOptimizer(a)\n",
    "train = optimizer.minimize(cost)\n",
    "init = tf.global_variables_initializer()\n",
    "sess = tf.Session()\n",
    "sess.run(init)\n",
    "for i in range(5001):\n",
    "    sess.run(train, feed_dict={X: xData, Y: yData})\n",
    "    if i% 500 == 0:\n",
    "        print (i, sess.run(cost, feed_dict={X: xData, Y: yData}), sess.run(W), sess.run(b))\n",
    "\n",
    "print (sess.run(H, feed_dict={X: [8]}))\n",
    "\n"
   ]
  }
 ],
 "metadata": {
  "kernelspec": {
   "display_name": "Python 3",
   "language": "python",
   "name": "python3"
  },
  "language_info": {
   "codemirror_mode": {
    "name": "ipython",
    "version": 3
   },
   "file_extension": ".py",
   "mimetype": "text/x-python",
   "name": "python",
   "nbconvert_exporter": "python",
   "pygments_lexer": "ipython3",
   "version": "0.0.0"
  }
 },
 "nbformat": 4,
 "nbformat_minor": 2
}
