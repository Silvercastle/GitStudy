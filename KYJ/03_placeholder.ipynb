{
 "cells": [
  {
   "cell_type": "code",
   "execution_count": 2,
   "id": "5baee930-d830-410f-92d2-0b5d1ed5d95f",
   "metadata": {},
   "outputs": [],
   "source": [
    "import tensorflow.compat.v1 as tf\n",
    "tf.disable_v2_behavior()"
   ]
  },
  {
   "cell_type": "code",
   "execution_count": 3,
   "id": "dea4e40c-eae6-4dcf-b0ca-ba4f8ce92c96",
   "metadata": {},
   "outputs": [],
   "source": [
    "input = [1, 2, 3, 4, 5]"
   ]
  },
  {
   "cell_type": "code",
   "execution_count": 4,
   "id": "31d30dc3-1783-491b-9e20-eef5a6203358",
   "metadata": {},
   "outputs": [],
   "source": [
    "# placeholder tensor 속성만 선언\n",
    "x = tf.placeholder(dtype=tf.float32)\n",
    "y = x + 5 #y는 add와 같음"
   ]
  },
  {
   "cell_type": "code",
   "execution_count": 5,
   "id": "a55fd554-5106-49b6-a611-7acb9053c3b4",
   "metadata": {},
   "outputs": [],
   "source": [
    "sess = tf.Session()"
   ]
  },
  {
   "cell_type": "code",
   "execution_count": 11,
   "id": "156af176-c961-46e1-92c3-33e48125fc77",
   "metadata": {},
   "outputs": [
    {
     "data": {
      "text/plain": [
       "array([ 6.,  7.,  8.,  9., 10.], dtype=float32)"
      ]
     },
     "execution_count": 11,
     "metadata": {},
     "output_type": "execute_result"
    }
   ],
   "source": [
    "# feed_dict를 통해 paceholder에 값 입력\n",
    "sess.run(y, feed_dict={x: input})"
   ]
  },
  {
   "cell_type": "code",
   "execution_count": 12,
   "id": "ef91c11d-4eed-48e4-8de0-e1142065f4be",
   "metadata": {},
   "outputs": [],
   "source": [
    "mathScore = [85, 99, 84, 97, 92]\n",
    "englishScore = [59, 80, 84, 68, 77]"
   ]
  },
  {
   "cell_type": "code",
   "execution_count": 14,
   "id": "eb75787c-ef11-455d-b01c-35db2b990e2d",
   "metadata": {},
   "outputs": [],
   "source": [
    "a = tf.placeholder(dtype=tf.float32)\n",
    "b = tf.placeholder(dtype=tf.float32)\n",
    "y = (a + b) / 2"
   ]
  },
  {
   "cell_type": "code",
   "execution_count": 15,
   "id": "c4020839-c441-44d8-9b59-914e52c48e96",
   "metadata": {},
   "outputs": [],
   "source": [
    "sess = tf.Session()"
   ]
  },
  {
   "cell_type": "code",
   "execution_count": 18,
   "id": "3b29f9b0-2676-4a6f-9807-4a582acf2d6c",
   "metadata": {},
   "outputs": [
    {
     "data": {
      "text/plain": [
       "array([72. , 89.5, 84. , 82.5, 84.5], dtype=float32)"
      ]
     },
     "execution_count": 18,
     "metadata": {},
     "output_type": "execute_result"
    }
   ],
   "source": [
    "sess.run(y, feed_dict={a: mathScore, b: englishScore})"
   ]
  },
  {
   "cell_type": "code",
   "execution_count": null,
   "id": "a1268311-9425-494e-aeba-880c4d949696",
   "metadata": {},
   "outputs": [],
   "source": []
  }
 ],
 "metadata": {
  "kernelspec": {
   "display_name": "Python 3 (ipykernel)",
   "language": "python",
   "name": "python3"
  },
  "language_info": {
   "codemirror_mode": {
    "name": "ipython",
    "version": 3
   },
   "file_extension": ".py",
   "mimetype": "text/x-python",
   "name": "python",
   "nbconvert_exporter": "python",
   "pygments_lexer": "ipython3",
   "version": "3.11.8"
  }
 },
 "nbformat": 4,
 "nbformat_minor": 5
}
